{
 "cells": [
  {
   "cell_type": "code",
   "execution_count": 1,
   "metadata": {},
   "outputs": [],
   "source": [
    "import numpy as np\n",
    "\n",
    "def stereo (data): #data 2D\n",
    "    canal1 =[]\n",
    "    canal2 = []\n",
    "    for i in range(len(data)):\n",
    "        canal1.append(data[i][0])\n",
    "        canal2.append(data[i][1])\n",
    "    \n",
    "    canal1 = np.array(canal1)\n",
    "    canal2 = np.array(canal2)\n",
    "\n",
    "    return (canal1,canal2)"
   ]
  },
  {
   "cell_type": "code",
   "execution_count": null,
   "metadata": {},
   "outputs": [],
   "source": []
  }
 ],
 "metadata": {
  "kernelspec": {
   "display_name": "Python 3",
   "language": "python",
   "name": "python3"
  },
  "language_info": {
   "codemirror_mode": {
    "name": "ipython",
    "version": 3
   },
   "file_extension": ".py",
   "mimetype": "text/x-python",
   "name": "python",
   "nbconvert_exporter": "python",
   "pygments_lexer": "ipython3",
   "version": "3.7.3"
  }
 },
 "nbformat": 4,
 "nbformat_minor": 2
}
